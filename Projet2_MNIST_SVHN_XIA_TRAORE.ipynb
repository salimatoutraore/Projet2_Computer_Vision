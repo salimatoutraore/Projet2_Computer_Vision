{
  "cells": [
    {
      "cell_type": "markdown",
      "metadata": {},
      "source": [
        "### Domaine adaption: MNIST to SVHN\n",
        "Yuchen XIA  \n",
        "Salimatou Traore"
      ]
    },
    {
      "cell_type": "code",
      "execution_count": null,
      "metadata": {
        "id": "StdtvWcOlHNX"
      },
      "outputs": [],
      "source": [
        "import torch\n",
        "from torch import nn, optim\n",
        "from torchvision import datasets, transforms\n",
        "from torch.utils.data import DataLoader, TensorDataset\n",
        "import matplotlib.pyplot as plt\n",
        "import sys\n",
        "import itertools\n",
        "import datetime\n",
        "import time\n",
        "import numpy as np\n",
        "import torch\n",
        "import torch.nn as nn\n",
        "import torch.optim as optim\n",
        "from torchvision.utils import save_image, make_grid\n",
        "from torchvision import datasets, transforms\n",
        "from torch.utils.data import DataLoader\n",
        "from torch.utils.tensorboard import SummaryWriter"
      ]
    },
    {
      "cell_type": "markdown",
      "metadata": {
        "id": "OSrJvHBzlHNb"
      },
      "source": [
        "# Chargement des datasets MNIST et SVHN"
      ]
    },
    {
      "cell_type": "code",
      "execution_count": null,
      "metadata": {
        "colab": {
          "base_uri": "https://localhost:8080/"
        },
        "id": "xwmaZKHklHNd",
        "outputId": "7716783e-898c-4180-b544-f4e321cdecb3"
      },
      "outputs": [
        {
          "name": "stdout",
          "output_type": "stream",
          "text": [
            "Downloading http://yann.lecun.com/exdb/mnist/train-images-idx3-ubyte.gz\n",
            "Downloading http://yann.lecun.com/exdb/mnist/train-images-idx3-ubyte.gz to ./mnist/MNIST/raw/train-images-idx3-ubyte.gz\n"
          ]
        },
        {
          "name": "stderr",
          "output_type": "stream",
          "text": [
            "100%|██████████| 9912422/9912422 [00:00<00:00, 91578473.63it/s]\n"
          ]
        },
        {
          "name": "stdout",
          "output_type": "stream",
          "text": [
            "Extracting ./mnist/MNIST/raw/train-images-idx3-ubyte.gz to ./mnist/MNIST/raw\n",
            "\n",
            "Downloading http://yann.lecun.com/exdb/mnist/train-labels-idx1-ubyte.gz\n",
            "Downloading http://yann.lecun.com/exdb/mnist/train-labels-idx1-ubyte.gz to ./mnist/MNIST/raw/train-labels-idx1-ubyte.gz\n"
          ]
        },
        {
          "name": "stderr",
          "output_type": "stream",
          "text": [
            "100%|██████████| 28881/28881 [00:00<00:00, 25336894.76it/s]"
          ]
        },
        {
          "name": "stdout",
          "output_type": "stream",
          "text": [
            "Extracting ./mnist/MNIST/raw/train-labels-idx1-ubyte.gz to ./mnist/MNIST/raw\n",
            "\n",
            "Downloading http://yann.lecun.com/exdb/mnist/t10k-images-idx3-ubyte.gz\n",
            "Downloading http://yann.lecun.com/exdb/mnist/t10k-images-idx3-ubyte.gz to ./mnist/MNIST/raw/t10k-images-idx3-ubyte.gz\n"
          ]
        },
        {
          "name": "stderr",
          "output_type": "stream",
          "text": [
            "\n",
            "100%|██████████| 1648877/1648877 [00:00<00:00, 31924901.43it/s]\n"
          ]
        },
        {
          "name": "stdout",
          "output_type": "stream",
          "text": [
            "Extracting ./mnist/MNIST/raw/t10k-images-idx3-ubyte.gz to ./mnist/MNIST/raw\n",
            "\n",
            "Downloading http://yann.lecun.com/exdb/mnist/t10k-labels-idx1-ubyte.gz\n",
            "Downloading http://yann.lecun.com/exdb/mnist/t10k-labels-idx1-ubyte.gz to ./mnist/MNIST/raw/t10k-labels-idx1-ubyte.gz\n"
          ]
        },
        {
          "name": "stderr",
          "output_type": "stream",
          "text": [
            "100%|██████████| 4542/4542 [00:00<00:00, 6679708.54it/s]\n"
          ]
        },
        {
          "name": "stdout",
          "output_type": "stream",
          "text": [
            "Extracting ./mnist/MNIST/raw/t10k-labels-idx1-ubyte.gz to ./mnist/MNIST/raw\n",
            "\n",
            "Downloading http://ufldl.stanford.edu/housenumbers/train_32x32.mat to ./svhn/train_32x32.mat\n"
          ]
        },
        {
          "name": "stderr",
          "output_type": "stream",
          "text": [
            "100%|██████████| 182040794/182040794 [00:20<00:00, 8953321.59it/s] \n"
          ]
        },
        {
          "name": "stdout",
          "output_type": "stream",
          "text": [
            "Downloading http://ufldl.stanford.edu/housenumbers/test_32x32.mat to ./svhn/test_32x32.mat\n"
          ]
        },
        {
          "name": "stderr",
          "output_type": "stream",
          "text": [
            "100%|██████████| 64275384/64275384 [00:05<00:00, 11636762.75it/s]\n"
          ]
        }
      ],
      "source": [
        "batch_size = 128\n",
        "\n",
        "transform_mnist = transforms.Compose([\n",
        "                transforms.Resize(32),\n",
        "                transforms.ToTensor(),\n",
        "                transforms.Normalize((0.5), (0.5))])\n",
        "\n",
        "transform_svhn = transforms.Compose([\n",
        "                transforms.Resize(32),\n",
        "                transforms.ToTensor(),\n",
        "                transforms.Normalize((0.5, 0.5, 0.5), (0.5, 0.5, 0.5))])\n",
        "\n",
        "mnist_train = datasets.MNIST(root='./mnist', train=True, download=True, transform=transform_mnist)\n",
        "mnist_test = datasets.MNIST(root='./mnist', train=False, download=True, transform=transform_mnist)\n",
        "\n",
        "svhn_train = datasets.SVHN(root='./svhn', split='train', download=True, transform=transform_svhn)\n",
        "svhn_test = datasets.SVHN(root='./svhn', split='test', download=True, transform=transform_svhn)\n",
        "\n",
        "mnist_train_loader = DataLoader(dataset=mnist_train, batch_size=batch_size, shuffle=True, drop_last=True)\n",
        "mnist_test_loader = DataLoader(dataset=mnist_test, batch_size=batch_size, shuffle=False, drop_last=True)\n",
        "\n",
        "svhn_train_loader = DataLoader(dataset=svhn_train, batch_size=batch_size, shuffle=True, drop_last=True)\n",
        "svhn_test_loader = DataLoader(dataset=svhn_test, batch_size=batch_size, shuffle=False, drop_last=True)"
      ]
    },
    {
      "cell_type": "code",
      "execution_count": null,
      "metadata": {
        "colab": {
          "base_uri": "https://localhost:8080/",
          "height": 130
        },
        "id": "1XUsQD4alHNg",
        "outputId": "3605d2d2-0501-4cd0-d423-5f7e3ba87b74"
      },
      "outputs": [
        {
          "data": {
            "image/png": "[encoded data removed]",
            "text/plain": [
              "<Figure size 2000x400 with 10 Axes>"
            ]
          },
          "metadata": {},
          "output_type": "display_data"
        }
      ],
      "source": [
        "imgs, _ = next(iter(mnist_train_loader))\n",
        "plt.figure(figsize=(20, 4))\n",
        "for i in range(10):\n",
        "    ax = plt.subplot(1, 10, i + 1)\n",
        "    img = imgs[i].permute(1, 2, 0)\n",
        "    ax.imshow(img, cmap='gray')\n",
        "    ax.axis('off')\n",
        "plt.tight_layout()"
      ]
    },
    {
      "cell_type": "code",
      "execution_count": null,
      "metadata": {
        "colab": {
          "base_uri": "https://localhost:8080/",
          "height": 304
        },
        "id": "lWS0gcvylHNg",
        "outputId": "ae1c52f7-e966-447a-f243-7ae589837ce2"
      },
      "outputs": [
        {
          "name": "stderr",
          "output_type": "stream",
          "text": [
            "WARNING:matplotlib.image:Clipping input data to the valid range for imshow with RGB data ([0..1] for floats or [0..255] for integers).\n",
            "WARNING:matplotlib.image:Clipping input data to the valid range for imshow with RGB data ([0..1] for floats or [0..255] for integers).\n",
            "WARNING:matplotlib.image:Clipping input data to the valid range for imshow with RGB data ([0..1] for floats or [0..255] for integers).\n",
            "WARNING:matplotlib.image:Clipping input data to the valid range for imshow with RGB data ([0..1] for floats or [0..255] for integers).\n",
            "WARNING:matplotlib.image:Clipping input data to the valid range for imshow with RGB data ([0..1] for floats or [0..255] for integers).\n",
            "WARNING:matplotlib.image:Clipping input data to the valid range for imshow with RGB data ([0..1] for floats or [0..255] for integers).\n",
            "WARNING:matplotlib.image:Clipping input data to the valid range for imshow with RGB data ([0..1] for floats or [0..255] for integers).\n",
            "WARNING:matplotlib.image:Clipping input data to the valid range for imshow with RGB data ([0..1] for floats or [0..255] for integers).\n",
            "WARNING:matplotlib.image:Clipping input data to the valid range for imshow with RGB data ([0..1] for floats or [0..255] for integers).\n",
            "WARNING:matplotlib.image:Clipping input data to the valid range for imshow with RGB data ([0..1] for floats or [0..255] for integers).\n"
          ]
        },
        {
          "data": {
            "image/png": "[encoded data removed]",
            "text/plain": [
              "<Figure size 2000x400 with 10 Axes>"
            ]
          },
          "metadata": {},
          "output_type": "display_data"
        }
      ],
      "source": [
        "imgs, _ = next(iter(svhn_train_loader))\n",
        "plt.figure(figsize=(20, 4))\n",
        "for i in range(10):\n",
        "    ax = plt.subplot(1, 10, i + 1)\n",
        "    img = imgs[i].permute(1, 2, 0)\n",
        "    ax.imshow(img, cmap='gray')\n",
        "    ax.axis('off')\n",
        "plt.tight_layout()"
      ]
    },
    {
      "cell_type": "markdown",
      "metadata": {
        "id": "pTj3E20MlHNh"
      },
      "source": [
        "# Architecture de réseau de neurones"
      ]
    },
    {
      "cell_type": "markdown",
      "metadata": {
        "id": "Bc1f5elvRZSL"
      },
      "source": [
        "## Test"
      ]
    },
    {
      "cell_type": "code",
      "execution_count": null,
      "metadata": {
        "colab": {
          "base_uri": "https://localhost:8080/"
        },
        "id": "9QBXhr3QRYwp",
        "outputId": "e13b1b3e-4bf4-40e4-dce4-266ac6f6128d"
      },
      "outputs": [
        {
          "name": "stdout",
          "output_type": "stream",
          "text": [
            "Using downloaded and verified file: ./svhn/train_32x32.mat\n",
            "Using downloaded and verified file: ./svhn/test_32x32.mat\n"
          ]
        }
      ],
      "source": [
        "batch_size = 128\n",
        "\n",
        "transform_mnist = transforms.Compose([\n",
        "                transforms.Resize(32),\n",
        "                transforms.ToTensor(),\n",
        "                transforms.Normalize((0.5), (0.5))])\n",
        "\n",
        "transform_svhn = transforms.Compose([\n",
        "                transforms.Resize(32),\n",
        "                transforms.ToTensor(),\n",
        "                transforms.Normalize((0.5, 0.5, 0.5), (0.5, 0.5, 0.5))])\n",
        "\n",
        "mnist_train = datasets.MNIST(root='./mnist', train=True, download=True, transform=transform_mnist)\n",
        "mnist_test = datasets.MNIST(root='./mnist', train=False, download=True, transform=transform_mnist)\n",
        "\n",
        "svhn_train = datasets.SVHN(root='./svhn', split='train', download=True, transform=transform_svhn)\n",
        "svhn_test = datasets.SVHN(root='./svhn', split='test', download=True, transform=transform_svhn)\n",
        "\n",
        "mnist_train_loader = DataLoader(dataset=mnist_train, batch_size=batch_size, shuffle=True, drop_last=True)\n",
        "mnist_test_loader = DataLoader(dataset=mnist_test, batch_size=batch_size, shuffle=False, drop_last=True)\n",
        "\n",
        "svhn_train_loader = DataLoader(dataset=svhn_train, batch_size=batch_size, shuffle=True, drop_last=True)\n",
        "svhn_test_loader = DataLoader(dataset=svhn_test, batch_size=batch_size, shuffle=False, drop_last=True)\n",
        "\n"
      ]
    },
    {
      "cell_type": "code",
      "execution_count": null,
      "metadata": {
        "id": "nMPEsSZzRYr_"
      },
      "outputs": [],
      "source": [
        "##############################\n",
        "#           Generator\n",
        "##############################\n",
        "class ResidualBlock(nn.Module):\n",
        "    def __init__(self, in_features):\n",
        "        super(ResidualBlock, self).__init__()\n",
        "\n",
        "        self.block = nn.Sequential(\n",
        "            nn.ReflectionPad2d(1),\n",
        "            nn.Conv2d(in_features, in_features, 3, stride=1, padding=0),\n",
        "            nn.InstanceNorm2d(in_features),\n",
        "            nn.ReLU(inplace=True),\n",
        "            nn.ReflectionPad2d(1),\n",
        "            nn.Conv2d(in_features, in_features, 3, stride=1, padding=0),\n",
        "            nn.InstanceNorm2d(in_features)\n",
        "        )\n",
        "\n",
        "    def forward(self, x):\n",
        "        return x + self.block(x)\n",
        "\n",
        "\n",
        "class GeneratorResNet(nn.Module):\n",
        "    def __init__(self, input_shape, num_residual_blocks, output_channels):\n",
        "        super(GeneratorResNet, self).__init__()\n",
        "\n",
        "        # The same model is used to generate SVHN from MNIST and MNIST from SVHN.\n",
        "        # Pictures from SVHN have 3 channels, and the ones from MNIST have only one.\n",
        "        # Therefore, when creating the generator, we use the shape of future input images\n",
        "        # to adapt the number of channels given as input to the first convolution layer.\n",
        "        input_channels = input_shape[0]\n",
        "\n",
        "        # Initial convolution block\n",
        "        out_features = 64\n",
        "        model = [\n",
        "            nn.ReflectionPad2d(3),\n",
        "            nn.Conv2d(input_channels, out_features, 7, stride=1, padding=0),\n",
        "            nn.InstanceNorm2d(out_features),\n",
        "            nn.ReLU(inplace=True),\n",
        "        ]\n",
        "        in_features = out_features\n",
        "\n",
        "        # Downsampling\n",
        "        for _ in range(2):\n",
        "            out_features *= 2\n",
        "            model += [\n",
        "                nn.Conv2d(in_features, out_features, 3, stride=2, padding=1),\n",
        "                nn.InstanceNorm2d(out_features),\n",
        "                nn.ReLU(inplace=True),\n",
        "            ]\n",
        "            in_features = out_features\n",
        "\n",
        "        # Residual blocks\n",
        "        for _ in range(num_residual_blocks):\n",
        "            model += [ResidualBlock(out_features)]\n",
        "\n",
        "        # Upsampling\n",
        "        for _ in range(2):\n",
        "            out_features //= 2\n",
        "            model += [\n",
        "                nn.Upsample(scale_factor=2),\n",
        "                nn.Conv2d(in_features, out_features, 3, stride=1, padding=1),\n",
        "                nn.InstanceNorm2d(out_features),\n",
        "                nn.ReLU(inplace=True),\n",
        "            ]\n",
        "            in_features = out_features\n",
        "\n",
        "        # Output layer\n",
        "        # We use the output_channels variable to set the desired number of channels for the output,\n",
        "        # because the same model is used to generate SVHN from MNIST and MNIST from SVHN.\n",
        "        # Pictures from SVHN have 3 channels, and the ones from MNIST have only one.\n",
        "        model += [\n",
        "            nn.ReflectionPad2d(3),\n",
        "            nn.Conv2d(out_features, output_channels, 7, stride=1, padding=0),\n",
        "            nn.Tanh()\n",
        "        ]\n",
        "\n",
        "        self.model = nn.Sequential(*model)\n",
        "\n",
        "    def forward(self, x):\n",
        "        return self.model(x)\n",
        "\n",
        "\n",
        "##############################\n",
        "#        Discriminator\n",
        "##############################\n",
        "class Discriminator(nn.Module):\n",
        "    def __init__(self, input_shape):\n",
        "        super(Discriminator, self).__init__()\n",
        "\n",
        "        channels, _, _ = input_shape\n",
        "\n",
        "        # Output shape of image discriminator (PatchGAN)\n",
        "        # Hardcoded here, because we're working with fixed size images (32x32) as input\n",
        "        # and we thus know the output shape\n",
        "        self.output_shape = (1, 2, 2)\n",
        "\n",
        "        def discriminator_block(in_filters, out_filters, stride=2, normalize=True):\n",
        "            \"\"\"Returns downsampling layers of each discriminator block\"\"\"\n",
        "            layers = [nn.Conv2d(in_filters, out_filters, 4, stride=stride, padding=1)]\n",
        "            if normalize:\n",
        "                layers.append(nn.InstanceNorm2d(out_filters))\n",
        "            layers.append(nn.LeakyReLU(0.2, inplace=True))\n",
        "            return layers\n",
        "\n",
        "        self.model = nn.Sequential(\n",
        "            *discriminator_block(channels, 64, normalize=False),\n",
        "            *discriminator_block(64, 128),\n",
        "            *discriminator_block(128, 256),\n",
        "            *discriminator_block(256, 512, stride=1),\n",
        "            nn.Conv2d(512, 1, 4, stride=1, padding=1)\n",
        "        )\n",
        "\n",
        "    def forward(self, img):\n",
        "        return self.model(img)\n",
        "\n",
        "\n",
        "##############################\n",
        "#           Classifier\n",
        "##############################\n",
        "\n",
        "class LeNet(nn.Module):\n",
        "    def __init__(self, input_nc):\n",
        "        super(LeNet, self).__init__()\n",
        "\n",
        "        sequence = [\n",
        "            nn.Conv2d(input_nc, 20, kernel_size=5, stride=1, padding=0),\n",
        "            nn.MaxPool2d(2, 2),\n",
        "            nn.ReLU(True),\n",
        "\n",
        "            nn.Conv2d(20, 50, kernel_size=5, stride=1, padding=0),\n",
        "            nn.Dropout2d(0.5),\n",
        "            nn.MaxPool2d(2, 2),\n",
        "            nn.ReLU(True),\n",
        "\n",
        "            nn.Flatten(),\n",
        "\n",
        "            nn.Linear(50*5*5, 500),\n",
        "            nn.ReLU(True),\n",
        "            nn.Dropout(0.5),\n",
        "\n",
        "            nn.Linear(500, 10)\n",
        "        ]\n",
        "        self.net = nn.Sequential(*sequence)\n",
        "\n",
        "    def forward(self, input):\n",
        "        \"\"\"Standard forward.\"\"\"\n",
        "        self.out = self.net(input)\n",
        "        return self.out"
      ]
    },
    {
      "cell_type": "code",
      "execution_count": null,
      "metadata": {
        "id": "-3r0oaQeYMek"
      },
      "outputs": [],
      "source": [
        "def weights_init_normal(m):\n",
        "    classname = m.__class__.__name__\n",
        "    if classname.find(\"Conv\") != -1:\n",
        "        torch.nn.init.normal_(m.weight.data, 0.0, 0.02)\n",
        "        if hasattr(m, \"bias\") and m.bias is not None:\n",
        "            torch.nn.init.constant_(m.bias.data, 0.0)\n",
        "    elif classname.find(\"BatchNorm2d\") != -1:\n",
        "        torch.nn.init.normal_(m.weight.data, 1.0, 0.02)\n",
        "        torch.nn.init.constant_(m.bias.data, 0.0)"
      ]
    },
    {
      "cell_type": "code",
      "execution_count": null,
      "metadata": {
        "id": "h_Vk0useZ5JT"
      },
      "outputs": [],
      "source": [
        "def checkpoint(G_MNIST_SVHN, G_SVHN_MNIST, D_SVHN, D_MNIST, epoch):\n",
        "    \"\"\"Saves the parameters of both generators and discriminators.\n",
        "    \"\"\"\n",
        "    torch.save(G_MNIST_SVHN.state_dict(), \"saved_models/G_MNIST_SVHN_epoch_%d.pth\" % epoch)\n",
        "    torch.save(G_SVHN_MNIST.state_dict(), \"saved_models/G_SVHN_MNIST_epoch_%d.pth\" % epoch)\n",
        "    torch.save(D_SVHN.state_dict(), \"saved_models/D_SVHN_epoch_%d.pth\" % epoch)\n",
        "    torch.save(D_MNIST.state_dict(), \"saved_models/D_MNIST_epoch_%d.pth\" % epoch)\n",
        "\n",
        "\n",
        "def sample_images(G_MNIST_SVHN, G_SVHN_MNIST, fixed_MNIST, fixed_SVHN, epoch):\n",
        "    \"\"\"Saves a generated sample from the test set\"\"\"\n",
        "    G_MNIST_SVHN.eval()\n",
        "    G_SVHN_MNIST.eval()\n",
        "\n",
        "    # Generate images (translation and cycle)\n",
        "    fake_MNIST = G_SVHN_MNIST(fixed_SVHN)\n",
        "    fake_SVHN = G_MNIST_SVHN(fixed_MNIST)\n",
        "\n",
        "    recov_MNIST = G_SVHN_MNIST(fake_SVHN)\n",
        "    recov_SVHN = G_MNIST_SVHN(fake_MNIST)\n",
        "\n",
        "    # Arange images along x-axis\n",
        "    real_MNIST_grid = make_grid(fixed_MNIST, nrow=20, normalize=True)\n",
        "    real_SVHN_grid = make_grid(fixed_SVHN, nrow=20, normalize=True)\n",
        "    fake_SVHN_grid = make_grid(fake_SVHN, nrow=20, normalize=True)\n",
        "    fake_MNIST_grid = make_grid(fake_MNIST, nrow=20, normalize=True)\n",
        "    recov_MNIST_grid = make_grid(recov_MNIST, nrow=20, normalize=True)\n",
        "    recov_SVHN_grid = make_grid(recov_SVHN, nrow=20, normalize=True)\n",
        "\n",
        "    # Arange images along y-axis\n",
        "    image_grid = torch.cat((real_MNIST_grid,\n",
        "                            fake_SVHN_grid,\n",
        "                            recov_MNIST_grid,\n",
        "                            real_SVHN_grid,\n",
        "                            fake_MNIST_grid,\n",
        "                            recov_SVHN_grid),\n",
        "                           1)\n",
        "\n",
        "    save_image(image_grid, \"images/epoch_%s.png\" % epoch, normalize=False)\n",
        "\n",
        "\n",
        "import matplotlib.pyplot as plt\n",
        "\n",
        "def eval_model_and_show_examples(model, criterion, dataloader, device, generator, num_examples=10):\n",
        "    model.eval()\n",
        "    total = 0\n",
        "    correct = 0\n",
        "    examples = 0\n",
        "\n",
        "    fig, axes = plt.subplots(1, num_examples, figsize=(15, 3))\n",
        "\n",
        "    with torch.no_grad():\n",
        "        for data in dataloader:\n",
        "            images, labels = data\n",
        "            images = images.to(device)\n",
        "            labels = labels.to(device)\n",
        "            # Transform MNIST images to SVHN style using the generator\n",
        "            if generator is not None:\n",
        "                transformed_images = generator(images)\n",
        "            outputs = model(transformed_images)\n",
        "            _, predicted = torch.max(outputs.data, 1)\n",
        "            total += labels.size(0)\n",
        "            correct += (predicted == labels).sum().item()\n",
        "\n",
        "            if examples < num_examples:\n",
        "                for idx in range(images.size(0)):\n",
        "                    if examples >= num_examples:\n",
        "                        break\n",
        "                    ax = axes[examples]\n",
        "                    ax.imshow(transformed_images[idx].cpu().permute(1, 2, 0) * 0.5 + 0.5)  # unnormalize\n",
        "                    ax.set_title(f'Pred: {predicted[idx].item()}\\nTrue: {labels[idx].item()}')\n",
        "                    ax.axis('off')\n",
        "                    examples += 1\n",
        "\n",
        "    accuracy = 100 * correct / total\n",
        "    plt.show()\n",
        "    return accuracy"
      ]
    },
    {
      "cell_type": "code",
      "execution_count": null,
      "metadata": {
        "id": "vZW5tE8pRYaT"
      },
      "outputs": [],
      "source": [
        "# Initialize the classification model\n",
        "classifier = LeNet(input_nc=3).cuda()  # Assuming SVHN style images are the target\n"
      ]
    },
    {
      "cell_type": "code",
      "execution_count": null,
      "metadata": {
        "id": "W1Ng-9Y-c87I"
      },
      "outputs": [],
      "source": [
        "class Options:\n",
        "    def __init__(self):\n",
        "        self.n_epochs = 10             # Insérez le nombre d'époques souhaité\n",
        "        self.batch_size = 128            # Taille du lot\n",
        "        self.lr = 0.0002                # Taux d'apprentissage pour l'optimiseur Adamax\n",
        "        self.b1 = 0.5                   # Coefficient de dégradation du momentum de premier ordre\n",
        "        self.b2 = 0.999                 # Coefficient de dégradation du momentum de deuxième ordre\n",
        "        self.n_residual_blocks = 9      # Nombre de blocs résiduels dans le générateur\n",
        "        self.lambda_cyc = 10.0          # Poids de la perte de cycle-consistence\n",
        "        self.tensorboard_path = './runs/default' # Chemin pour les logs Tensorboard\n",
        "\n",
        "opts = Options()"
      ]
    },
    {
      "cell_type": "code",
      "execution_count": null,
      "metadata": {
        "id": "94VOskS3WlKR"
      },
      "outputs": [],
      "source": [
        "def training_loop(MNIST_dataloader,\n",
        "                  SVHN_dataloader,\n",
        "                  MNIST_test_dataloader,\n",
        "                  SVHN_test_dataloader,\n",
        "                  opts):\n",
        "    \"\"\"Runs the training loop.\n",
        "        * Saves checkpoint/models every epoch\n",
        "        * Saves generated samples every epoch\n",
        "    \"\"\"\n",
        "    # Device configuration\n",
        "    device = torch.device('cuda' if torch.cuda.is_available() else 'cpu')\n",
        "\n",
        "    # Losses\n",
        "    criterion_GAN = torch.nn.MSELoss()\n",
        "    criterion_cycle = torch.nn.L1Loss()\n",
        "    criterion_classifier = torch.nn.CrossEntropyLoss()  # For LeNet classifier\n",
        "\n",
        "    # Initialize CycleGAN models\n",
        "    G_MNIST_SVHN = GeneratorResNet((1, 32, 32), opts.n_residual_blocks, 3).apply(weights_init_normal).to(device)\n",
        "    G_SVHN_MNIST = GeneratorResNet((3, 32, 32), opts.n_residual_blocks, 1).apply(weights_init_normal).to(device)\n",
        "    D_MNIST = Discriminator((1, 32, 32)).apply(weights_init_normal).to(device)\n",
        "    D_SVHN = Discriminator((3, 32, 32)).apply(weights_init_normal).to(device)\n",
        "\n",
        "    # Initialize LeNet classifier\n",
        "    classifier = LeNet(input_nc=3).to(device)\n",
        "\n",
        "    # Optimizers for GAN and classifier\n",
        "    optimizer_G = optim.Adamax(itertools.chain(G_MNIST_SVHN.parameters(), G_SVHN_MNIST.parameters()), lr=opts.lr, betas=(opts.b1, opts.b2))\n",
        "    optimizer_D_MNIST = optim.Adamax(D_MNIST.parameters(), lr=opts.lr, betas=(opts.b1, opts.b2))\n",
        "    optimizer_D_SVHN = optim.Adamax(D_SVHN.parameters(), lr=opts.lr, betas=(opts.b1, opts.b2))\n",
        "    optimizer_classifier = optim.Adamax(classifier.parameters(), lr=0.0001, betas=(0.5, 0.999))\n",
        "\n",
        "    # Fixed images for generating test samples\n",
        "    fixed_MNIST, _ = next(iter(MNIST_test_dataloader))\n",
        "    fixed_SVHN, _ = next(iter(SVHN_test_dataloader))\n",
        "    fixed_MNIST = fixed_MNIST.to(device)[:20]\n",
        "    fixed_SVHN = fixed_SVHN.to(device)[:20]\n",
        "\n",
        "    # TensorBoard setup\n",
        "    writer = SummaryWriter(opts.tensorboard_path)\n",
        "    prev_time = time.time()\n",
        "\n",
        "    # Initialize loss storage\n",
        "    D_losses = []\n",
        "    G_losses = []\n",
        "    classifier_losses = []\n",
        "\n",
        "    # Main training loop\n",
        "    for epoch in range(1, opts.n_epochs+1):\n",
        "        total = 0\n",
        "        correct = 0\n",
        "        epoch_D_losses = []\n",
        "        epoch_G_losses = []\n",
        "        epoch_classifier_losses = []\n",
        "\n",
        "        iter_MNIST = iter(MNIST_dataloader)\n",
        "        iter_SVHN = iter(SVHN_dataloader)\n",
        "\n",
        "        iter_per_epoch = min(len(iter_MNIST), len(iter_SVHN))\n",
        "\n",
        "        for i in range(iter_per_epoch):\n",
        "            # Current batch\n",
        "            MNIST_imgs, MNIST_labels = next(iter_MNIST)\n",
        "            SVHN_imgs, SVHN_labels = next(iter_SVHN)\n",
        "\n",
        "            MNIST_imgs = MNIST_imgs.to(device)\n",
        "            SVHN_imgs = SVHN_imgs.to(device)\n",
        "\n",
        "            # Adversarial ground truths\n",
        "            valid = torch.tensor(np.ones((MNIST_imgs.size(0), *D_MNIST.output_shape)),\n",
        "                                 requires_grad=False, dtype=torch.float32).to(device)\n",
        "            fake = torch.tensor(np.zeros((MNIST_imgs.size(0), *D_MNIST.output_shape)),\n",
        "                                requires_grad=False, dtype=torch.float32).to(device)\n",
        "\n",
        "            G_MNIST_SVHN.train()\n",
        "            G_SVHN_MNIST.train()\n",
        "\n",
        "            # -----------------------\n",
        "            #  Train Discriminator MNIST\n",
        "            # -----------------------\n",
        "\n",
        "            optimizer_D_MNIST.zero_grad()\n",
        "\n",
        "            D_MNIST_loss_real = criterion_GAN(D_MNIST(MNIST_imgs), valid)\n",
        "            fake_MNIST = G_SVHN_MNIST(SVHN_imgs)\n",
        "            D_MNIST_loss_fake = criterion_GAN(D_MNIST(fake_MNIST), fake)\n",
        "            D_MNIST_loss = (D_MNIST_loss_real + D_MNIST_loss_fake) / 2\n",
        "\n",
        "            D_MNIST_loss.backward()\n",
        "            optimizer_D_MNIST.step()\n",
        "\n",
        "            # -----------------------\n",
        "            #  Train Discriminator SVHN\n",
        "            # -----------------------\n",
        "\n",
        "            optimizer_D_SVHN.zero_grad()\n",
        "\n",
        "            D_SVHN_loss_real = criterion_GAN(D_SVHN(SVHN_imgs), valid)\n",
        "            fake_SVHN = G_MNIST_SVHN(MNIST_imgs)\n",
        "            D_SVHN_loss_fake = criterion_GAN(D_SVHN(fake_SVHN), fake)\n",
        "            D_SVHN_loss = (D_SVHN_loss_real + D_SVHN_loss_fake) / 2\n",
        "\n",
        "            D_SVHN_loss.backward()\n",
        "            optimizer_D_SVHN.step()\n",
        "\n",
        "            # Total Discriminator loss\n",
        "            D_loss = (D_MNIST_loss + D_SVHN_loss) / 2\n",
        "\n",
        "            # ------------------\n",
        "            #  Train Generators\n",
        "            # ------------------\n",
        "\n",
        "            optimizer_G.zero_grad()\n",
        "\n",
        "            # Regenerate fake images for generator training\n",
        "            fake_MNIST = G_SVHN_MNIST(SVHN_imgs)\n",
        "            fake_SVHN = G_MNIST_SVHN(MNIST_imgs)\n",
        "\n",
        "            # GAN loss\n",
        "            SVHN_MNIST_GAN_loss = criterion_GAN(D_MNIST(fake_MNIST), valid)\n",
        "            MNIST_SVHN_GAN_loss = criterion_GAN(D_SVHN(fake_SVHN), valid)\n",
        "\n",
        "            G_GAN_loss = (SVHN_MNIST_GAN_loss + MNIST_SVHN_GAN_loss) / 2\n",
        "\n",
        "            # Cycle loss\n",
        "            recov_MNIST = G_SVHN_MNIST(fake_SVHN)\n",
        "            MNIST_cycle_loss = criterion_cycle(recov_MNIST, MNIST_imgs)\n",
        "\n",
        "            recov_SVHN = G_MNIST_SVHN(fake_MNIST)\n",
        "            SVHN_cycle_loss = criterion_cycle(recov_SVHN, SVHN_imgs)\n",
        "\n",
        "            G_cycle_loss = (MNIST_cycle_loss + SVHN_cycle_loss) / 2\n",
        "\n",
        "            # Total generator loss\n",
        "            G_loss = G_GAN_loss + opts.lambda_cyc * G_cycle_loss\n",
        "\n",
        "            G_loss.backward()\n",
        "            optimizer_G.step()\n",
        "\n",
        "            # After updating generators, use the MNIST-to-SVHN generator to create images for classifier training\n",
        "            transformed_MNIST = G_MNIST_SVHN(MNIST_imgs)\n",
        "            MNIST_labels = MNIST_labels.to(device)\n",
        "\n",
        "            # Train classifier with transformed images and MNIST labels\n",
        "            optimizer_classifier.zero_grad()\n",
        "            classifier_predictions = classifier(transformed_MNIST)\n",
        "            loss_classifier = criterion_classifier(classifier_predictions, MNIST_labels)\n",
        "            loss_classifier.backward()\n",
        "            optimizer_classifier.step()\n",
        "\n",
        "            # Calculate accuracy\n",
        "            _, predicted = torch.max(classifier_predictions.data, 1)\n",
        "            total += MNIST_labels.size(0)\n",
        "            correct += (predicted == MNIST_labels).sum().item()\n",
        "\n",
        "            # Store losses\n",
        "            epoch_D_losses.append(D_loss.item())\n",
        "            epoch_G_losses.append(G_loss.item())\n",
        "            epoch_classifier_losses.append(loss_classifier.item())\n",
        "\n",
        "\n",
        "            # --------------\n",
        "            #  Log Progress\n",
        "            # --------------\n",
        "\n",
        "            # Determine approximate time left\n",
        "            batches_done = (epoch - 1) * iter_per_epoch + (i + 1)\n",
        "            batches_left = opts.n_epochs * iter_per_epoch - batches_done\n",
        "            time_left = datetime.timedelta(seconds=batches_left * (time.time() - prev_time))\n",
        "            prev_time = time.time()\n",
        "\n",
        "            # Print log\n",
        "            if i % 50 == 0:\n",
        "                sys.stdout.write(\n",
        "                    \"\\r[Epoch %d/%d] [Batch %d/%d] [D loss: %f] [G loss: %f, adv: %f, cycle: %f] ETA: %s\"\n",
        "                    % (\n",
        "                        epoch,\n",
        "                        opts.n_epochs,\n",
        "                        i,\n",
        "                        iter_per_epoch,\n",
        "                        D_loss.item(),\n",
        "                        G_loss.item(),\n",
        "                        G_GAN_loss.item(),\n",
        "                        G_cycle_loss.item(),\n",
        "                        time_left\n",
        "                    )\n",
        "                )\n",
        "\n",
        "                writer.add_scalar('Loss/Discriminator', D_loss, (epoch-1)*iter_per_epoch + i)\n",
        "                writer.add_scalar('Loss/D_MNIST', D_MNIST_loss, (epoch - 1) * iter_per_epoch + i)\n",
        "                writer.add_scalar('Loss/D_SVHN', D_SVHN_loss, (epoch - 1) * iter_per_epoch + i)\n",
        "                writer.add_scalar('Loss/Generator', G_loss, (epoch-1)*iter_per_epoch + i)\n",
        "                writer.add_scalar('Loss/Generator_GAN', G_GAN_loss, (epoch-1)*iter_per_epoch + i)\n",
        "                writer.add_scalar('Loss/G_SVHN_MNIST_GAN', SVHN_MNIST_GAN_loss, (epoch - 1) * iter_per_epoch + i)\n",
        "                writer.add_scalar('Loss/G_MNIST_SVHN_GAN', MNIST_SVHN_GAN_loss, (epoch - 1) * iter_per_epoch + i)\n",
        "                writer.add_scalar('Loss/Generator_Cycle', G_cycle_loss, (epoch-1)*iter_per_epoch + i)\n",
        "                writer.add_scalar('Loss/MNIST_cycle_loss', MNIST_cycle_loss, (epoch - 1) * iter_per_epoch + i)\n",
        "                writer.add_scalar('Loss/SVHN_cycle_loss', SVHN_cycle_loss, (epoch - 1) * iter_per_epoch + i)\n",
        "\n",
        "        # Average losses for each epoch and store\n",
        "        D_losses.append(sum(epoch_D_losses) / len(epoch_D_losses))\n",
        "        G_losses.append(sum(epoch_G_losses) / len(epoch_G_losses))\n",
        "        classifier_losses.append(sum(epoch_classifier_losses) / len(epoch_classifier_losses))\n",
        "\n",
        "        # Logging the accuracy\n",
        "        epoch_accuracy = 100 * correct / total\n",
        "        print(f' Epoch {epoch} Accuracy: {epoch_accuracy:.2f}%')\n",
        "\n",
        "        # Save the generated samples\n",
        "        sample_images(G_MNIST_SVHN, G_SVHN_MNIST, fixed_MNIST, fixed_SVHN, epoch)\n",
        "\n",
        "        # Save model weights\n",
        "        checkpoint(G_MNIST_SVHN, G_SVHN_MNIST, D_SVHN, D_MNIST, epoch)\n",
        "\n",
        "    test_accuracy = eval_model_and_show_examples(classifier, criterion_classifier, MNIST_test_dataloader, device, G_MNIST_SVHN, num_examples=10)\n",
        "    print(f'Test Accuracy: {test_accuracy:.2f}%')\n",
        "    return D_losses, G_losses, classifier_losses"
      ]
    },
    {
      "cell_type": "code",
      "execution_count": null,
      "metadata": {
        "colab": {
          "base_uri": "https://localhost:8080/",
          "height": 359
        },
        "id": "Pkryx7-pRYOL",
        "outputId": "033bee88-90d6-4509-b5b2-551d484fe85a"
      },
      "outputs": [
        {
          "name": "stdout",
          "output_type": "stream",
          "text": [
            "[Epoch 1/10] [Batch 450/468] [D loss: 0.183255] [G loss: 2.525090, adv: 0.646390, cycle: 0.187870] ETA: 1:50:37.202626 Epoch 1 Accuracy: 35.69%\n",
            "[Epoch 2/10] [Batch 450/468] [D loss: 0.160161] [G loss: 2.403158, adv: 0.642072, cycle: 0.176109] ETA: 1:36:43.836273 Epoch 2 Accuracy: 61.50%\n",
            "[Epoch 3/10] [Batch 450/468] [D loss: 0.195770] [G loss: 2.186360, adv: 0.462968, cycle: 0.172339] ETA: 1:24:22.913385 Epoch 3 Accuracy: 69.52%\n",
            "[Epoch 4/10] [Batch 450/468] [D loss: 0.142831] [G loss: 2.269016, adv: 0.603340, cycle: 0.166568] ETA: 1:11:41.258606 Epoch 4 Accuracy: 72.04%\n",
            "[Epoch 5/10] [Batch 450/468] [D loss: 0.156298] [G loss: 1.969046, adv: 0.545494, cycle: 0.142355] ETA: 1:00:23.821527 Epoch 5 Accuracy: 71.07%\n",
            "[Epoch 6/10] [Batch 450/468] [D loss: 0.155927] [G loss: 2.016046, adv: 0.604160, cycle: 0.141189] ETA: 0:48:28.740614 Epoch 6 Accuracy: 72.54%\n",
            "[Epoch 7/10] [Batch 450/468] [D loss: 0.139818] [G loss: 1.998965, adv: 0.619541, cycle: 0.137942] ETA: 0:37:18.990486 Epoch 7 Accuracy: 73.35%\n",
            "[Epoch 8/10] [Batch 450/468] [D loss: 0.176233] [G loss: 2.058558, adv: 0.700352, cycle: 0.135821] ETA: 0:24:28.966200 Epoch 8 Accuracy: 74.50%\n",
            "[Epoch 9/10] [Batch 450/468] [D loss: 0.147952] [G loss: 1.950812, adv: 0.662615, cycle: 0.128820] ETA: 0:12:27.732655 Epoch 9 Accuracy: 75.35%\n",
            "[Epoch 10/10] [Batch 450/468] [D loss: 0.172614] [G loss: 1.958339, adv: 0.607920, cycle: 0.135042] ETA: 0:00:25.997224 Epoch 10 Accuracy: 74.77%\n"
          ]
        },
        {
          "data": {
            "image/png": "[encoded data removed]",
            "text/plain": [
              "<Figure size 1500x300 with 10 Axes>"
            ]
          },
          "metadata": {},
          "output_type": "display_data"
        },
        {
          "name": "stdout",
          "output_type": "stream",
          "text": [
            "Test Accuracy: 80.11%\n"
          ]
        }
      ],
      "source": [
        "D_losses, G_losses, classifier_losses = training_loop(mnist_train_loader, svhn_train_loader, mnist_test_loader, svhn_test_loader, opts)"
      ]
    },
    {
      "cell_type": "code",
      "execution_count": null,
      "metadata": {
        "colab": {
          "base_uri": "https://localhost:8080/",
          "height": 487
        },
        "id": "PWCmiyCWlHNr",
        "outputId": "ef7dbf35-ec41-43de-a9c7-827eb02aa7b1"
      },
      "outputs": [
        {
          "data": {
            "image/png": "[encoded data removed]",
            "text/plain": [
              "<Figure size 1000x500 with 1 Axes>"
            ]
          },
          "metadata": {},
          "output_type": "display_data"
        }
      ],
      "source": [
        "import matplotlib.pyplot as plt\n",
        "\n",
        "def plot_losses(D_losses, G_losses, classifier_losses):\n",
        "    plt.figure(figsize=(10, 5))\n",
        "    plt.plot(D_losses, label='Discriminator Loss')\n",
        "    plt.plot(G_losses, label='Generator Loss')\n",
        "    plt.plot(classifier_losses, label='Classifier Loss')\n",
        "    plt.title('Training Losses')\n",
        "    plt.xlabel('Epoch')\n",
        "    plt.ylabel('Loss')\n",
        "    plt.legend()\n",
        "    plt.grid(True)\n",
        "    plt.show()\n",
        "\n",
        "plot_losses(D_losses, G_losses, classifier_losses)"
      ]
    },
    {
      "cell_type": "code",
      "execution_count": null,
      "metadata": {
        "id": "GSllJeRxd_ig"
      },
      "outputs": [],
      "source": []
    },
    {
      "cell_type": "code",
      "execution_count": null,
      "metadata": {
        "id": "pIp4nmymeCd0"
      },
      "outputs": [],
      "source": []
    }
  ],
  "metadata": {
    "accelerator": "GPU",
    "colab": {
      "gpuType": "T4",
      "provenance": []
    },
    "kernelspec": {
      "display_name": "Python 3",
      "name": "python3"
    },
    "language_info": {
      "codemirror_mode": {
        "name": "ipython",
        "version": 3
      },
      "file_extension": ".py",
      "mimetype": "text/x-python",
      "name": "python",
      "nbconvert_exporter": "python",
      "pygments_lexer": "ipython3",
      "version": "3.11.5"
    }
  },
  "nbformat": 4,
  "nbformat_minor": 0
}
